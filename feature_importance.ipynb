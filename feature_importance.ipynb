{
  "cells": [
    {
      "cell_type": "markdown",
      "metadata": {},
      "source": [
        "# Feature Importance Analysis\n",
        "Este notebook carga la configuración de un experimento, entrena el modelo y grafica la importancia de los features promediada por seed.\n"
      ]
    },
    {
      "cell_type": "markdown",
      "metadata": {},
      "source": [
        "## Imports\n"
      ]
    },
    {
      "cell_type": "code",
      "execution_count": null,
      "metadata": {},
      "outputs": [],
      "source": [
        "from dmeyf2025.modelling.train_model import train_models\n",
        "from dmeyf2025.experiments.experiments import load_config\n",
        "from dmeyf2025.etl import ETL\n",
        "from dmeyf2025.processors.target_processor import BinaryTargetProcessor, CreateTargetProcessor\n",
        "from dmeyf2025.processors.feature_processors import DeltaLagTransformer\n",
        "import json\n",
        "import os\n",
        "import numpy as np\n",
        "import pandas as pd\n",
        "import lightgbm as lgb\n",
        "import matplotlib.pyplot as plt\n",
        "import seaborn as sns\n",
        "\n",
        "# Configuración de visualización\n",
        "plt.rcParams['figure.figsize'] = (12, 8)\n",
        "sns.set_style('whitegrid')\n"
      ]
    },
    {
      "cell_type": "markdown",
      "metadata": {},
      "source": [
        "## Configuración del Experimento\n"
      ]
    },
    {
      "cell_type": "code",
      "execution_count": null,
      "metadata": {},
      "outputs": [],
      "source": [
        "# Especificar la ruta del experimento que ya ha corrido\n",
        "experiment_path = \"experiments/DeltaLags2_0.1_50_01-04_G_0.0.3\"\n",
        "\n",
        "# Cargar configuración y parámetros\n",
        "params = json.load(open(os.path.join(experiment_path, \"best_params.json\")))\n",
        "config = load_config(os.path.join(experiment_path, \"config.yaml\"))\n",
        "\n",
        "print(f\"Experimento: {config['experiment']['name']}\")\n",
        "print(f\"Descripción: {config['experiment']['description']}\")\n",
        "print(f\"Seeds: {config['experiment']['seeds']}\")\n",
        "print(f\"\\nParámetros del modelo:\")\n",
        "for key, value in params.items():\n",
        "    if key != 'seed':\n",
        "        print(f\"  {key}: {value}\")\n"
      ]
    },
    {
      "cell_type": "markdown",
      "metadata": {},
      "source": [
        "## Cargar Parámetros de la Configuración\n"
      ]
    },
    {
      "cell_type": "code",
      "execution_count": null,
      "metadata": {},
      "outputs": [],
      "source": [
        "train_months = config[\"data\"][\"train_months\"]\n",
        "eval_month = config[\"data\"][\"eval_month\"]\n",
        "positive_class = config[\"experiment\"][\"positive_classes\"]\n",
        "seeds = config[\"experiment\"][\"seeds\"]\n",
        "data_path = config[\"experiment\"][\"raw_data_path\"]\n",
        "\n",
        "# Remover seed de params si existe\n",
        "params.pop(\"seed\", None)\n",
        "\n",
        "print(f\"Meses de entrenamiento: {train_months}\")\n",
        "print(f\"Mes de evaluación: {eval_month}\")\n",
        "print(f\"Clases positivas: {positive_class}\")\n",
        "print(f\"Número de seeds: {len(seeds)}\")\n"
      ]
    },
    {
      "cell_type": "markdown",
      "metadata": {},
      "source": [
        "## Procesamiento de Datos\n"
      ]
    },
    {
      "cell_type": "code",
      "execution_count": null,
      "metadata": {},
      "outputs": [],
      "source": [
        "print(\"Cargando datos...\")\n",
        "etl = ETL(data_path, CreateTargetProcessor(), train_months=train_months)\n",
        "X, y, _, _, _, _ = etl.execute_complete_pipeline()\n",
        "\n",
        "print(f\"Shape inicial: {X.shape}\")\n",
        "\n",
        "# Procesar target\n",
        "target_processor = BinaryTargetProcessor(positive_class)\n",
        "X, y = target_processor.fit_transform(X, y)\n",
        "\n",
        "print(f\"Distribución de clases: {np.bincount(y)}\")\n"
      ]
    },
    {
      "cell_type": "markdown",
      "metadata": {},
      "source": [
        "## Aplicar Transformaciones de Features\n"
      ]
    },
    {
      "cell_type": "code",
      "execution_count": null,
      "metadata": {},
      "outputs": [],
      "source": [
        "# Aplicar transformación Delta-Lag\n",
        "print(\"Aplicando transformación Delta-Lag...\")\n",
        "delta_lag_transformer = DeltaLagTransformer(n_deltas=2, n_lags=2)\n",
        "X_transformed = delta_lag_transformer.fit_transform(X)\n",
        "\n",
        "print(f\"Shape después de transformación: {X_transformed.shape}\")\n",
        "\n",
        "# Preparar datos\n",
        "X_transformed.set_index(\"numero_de_cliente\", inplace=True)\n",
        "X_transformed.loc[:, \"label\"] = y\n",
        "\n",
        "# Separar train y eval\n",
        "X_train = X_transformed[X_transformed[\"foto_mes\"].isin(train_months)]\n",
        "y_train = X_train[\"label\"]\n",
        "X_train = X_train.drop(columns=[\"label\"])\n",
        "\n",
        "X_eval = X_transformed[X_transformed[\"foto_mes\"].isin([eval_month])]\n",
        "X_eval = X_eval.drop(columns=[\"label\"])\n",
        "\n",
        "print(f\"X_train shape: {X_train.shape}\")\n",
        "print(f\"X_eval shape: {X_eval.shape}\")\n"
      ]
    },
    {
      "cell_type": "markdown",
      "metadata": {},
      "source": [
        "## Entrenamiento de Modelos\n"
      ]
    },
    {
      "cell_type": "code",
      "execution_count": null,
      "metadata": {},
      "outputs": [],
      "source": [
        "print(\"Entrenando modelos con diferentes seeds...\")\n",
        "preds, models = train_models(X_train, y_train, X_eval, params, seeds, experiment_path)\n",
        "\n",
        "print(f\"\\nModelos entrenados: {len(models)}\")\n",
        "print(f\"Predicciones shape: {preds.shape}\")\n"
      ]
    },
    {
      "cell_type": "markdown",
      "metadata": {},
      "source": [
        "## Análisis de Feature Importance\n"
      ]
    },
    {
      "cell_type": "markdown",
      "metadata": {},
      "source": [
        "### Extraer Feature Importance de Todos los Modelos\n"
      ]
    },
    {
      "cell_type": "code",
      "execution_count": null,
      "metadata": {},
      "outputs": [],
      "source": [
        "# Crear DataFrame con importancias de todos los modelos\n",
        "importances = pd.DataFrame()\n",
        "importances[\"feature\"] = X_train.columns\n",
        "\n",
        "# Obtener importancia de cada modelo (por seed)\n",
        "for n, (model, seed) in enumerate(zip(models, seeds)):\n",
        "    importances[f\"importance_seed_{seed}\"] = model.feature_importance(importance_type=\"gain\")\n",
        "\n",
        "# Calcular estadísticas\n",
        "importance_cols = [col for col in importances.columns if col.startswith(\"importance_\")]\n",
        "importances[\"importance_mean\"] = importances[importance_cols].mean(axis=1)\n",
        "importances[\"importance_std\"] = importances[importance_cols].std(axis=1)\n",
        "importances[\"importance_cv\"] = importances[\"importance_std\"] / (importances[\"importance_mean\"] + 1e-10)\n",
        "\n",
        "# Ordenar por importancia media\n",
        "importances = importances.sort_values(by=\"importance_mean\", ascending=False)\n",
        "\n",
        "print(\"Top 20 features más importantes (promediados por seed):\")\n",
        "print(importances[[\"feature\", \"importance_mean\", \"importance_std\", \"importance_cv\"]].head(20))\n"
      ]
    },
    {
      "cell_type": "markdown",
      "metadata": {},
      "source": [
        "### Visualización: Top Features por Importancia Media\n"
      ]
    },
    {
      "cell_type": "code",
      "execution_count": null,
      "metadata": {},
      "outputs": [],
      "source": [
        "# Gráfico de barras con top N features\n",
        "top_n = 30\n",
        "top_features = importances.head(top_n)\n",
        "\n",
        "plt.figure(figsize=(12, 10))\n",
        "plt.barh(range(top_n), top_features[\"importance_mean\"], xerr=top_features[\"importance_std\"], alpha=0.7)\n",
        "plt.yticks(range(top_n), top_features[\"feature\"])\n",
        "plt.xlabel(\"Importancia Media (Gain)\", fontsize=12)\n",
        "plt.ylabel(\"Features\", fontsize=12)\n",
        "plt.title(f\"Top {top_n} Features por Importancia Media\\n(Promediado sobre {len(seeds)} seeds)\", fontsize=14, fontweight='bold')\n",
        "plt.gca().invert_yaxis()\n",
        "plt.grid(axis='x', alpha=0.3)\n",
        "plt.tight_layout()\n",
        "plt.show()\n"
      ]
    },
    {
      "cell_type": "markdown",
      "metadata": {},
      "source": [
        "### Visualización: Heatmap de Importancia por Seed\n"
      ]
    },
    {
      "cell_type": "code",
      "execution_count": null,
      "metadata": {},
      "outputs": [],
      "source": [
        "# Heatmap de importancia por seed para top features\n",
        "top_n_heatmap = 20\n",
        "top_features_heatmap = importances.head(top_n_heatmap)\n",
        "\n",
        "# Preparar datos para heatmap\n",
        "heatmap_data = top_features_heatmap[importance_cols].values\n",
        "feature_names = top_features_heatmap[\"feature\"].values\n",
        "\n",
        "plt.figure(figsize=(14, 10))\n",
        "sns.heatmap(heatmap_data, \n",
        "            yticklabels=feature_names,\n",
        "            xticklabels=[f\"Seed {seed}\" for seed in seeds],\n",
        "            cmap=\"YlOrRd\",\n",
        "            annot=False,\n",
        "            fmt=\".0f\",\n",
        "            cbar_kws={'label': 'Importancia (Gain)'})\n",
        "plt.title(f\"Heatmap de Importancia por Seed\\nTop {top_n_heatmap} Features\", fontsize=14, fontweight='bold')\n",
        "plt.xlabel(\"Seed\", fontsize=12)\n",
        "plt.ylabel(\"Features\", fontsize=12)\n",
        "plt.xticks(rotation=45, ha='right')\n",
        "plt.tight_layout()\n",
        "plt.show()\n"
      ]
    },
    {
      "cell_type": "markdown",
      "metadata": {},
      "source": [
        "### Visualización: Estabilidad de Features (Coeficiente de Variación)\n"
      ]
    },
    {
      "cell_type": "code",
      "execution_count": null,
      "metadata": {},
      "outputs": [],
      "source": [
        "# Scatter plot: Importancia media vs Coeficiente de variación\n",
        "top_n_scatter = 50\n",
        "top_features_scatter = importances.head(top_n_scatter)\n",
        "\n",
        "plt.figure(figsize=(12, 8))\n",
        "plt.scatter(top_features_scatter[\"importance_mean\"], \n",
        "           top_features_scatter[\"importance_cv\"],\n",
        "           alpha=0.6, s=100)\n",
        "\n",
        "# Etiquetar top 10 features\n",
        "for idx in range(min(10, len(top_features_scatter))):\n",
        "    row = top_features_scatter.iloc[idx]\n",
        "    plt.annotate(row[\"feature\"], \n",
        "                xy=(row[\"importance_mean\"], row[\"importance_cv\"]),\n",
        "                xytext=(5, 5), textcoords='offset points',\n",
        "                fontsize=9, alpha=0.7)\n",
        "\n",
        "plt.xlabel(\"Importancia Media (Gain)\", fontsize=12)\n",
        "plt.ylabel(\"Coeficiente de Variación (CV)\", fontsize=12)\n",
        "plt.title(f\"Estabilidad de Features\\nImportancia Media vs Variabilidad entre Seeds\", fontsize=14, fontweight='bold')\n",
        "plt.grid(alpha=0.3)\n",
        "plt.tight_layout()\n",
        "plt.show()\n",
        "\n",
        "print(\"\\nFeatures más estables (menor CV):\")\n",
        "stable_features = importances.head(50).sort_values(by=\"importance_cv\")\n",
        "print(stable_features[[\"feature\", \"importance_mean\", \"importance_cv\"]].head(10))\n"
      ]
    },
    {
      "cell_type": "markdown",
      "metadata": {},
      "source": [
        "### Visualización: Distribución de Importancia por Seed\n"
      ]
    },
    {
      "cell_type": "code",
      "execution_count": null,
      "metadata": {},
      "outputs": [],
      "source": [
        "# Box plot para top features mostrando distribución entre seeds\n",
        "top_n_box = 15\n",
        "top_features_box = importances.head(top_n_box)\n",
        "\n",
        "# Preparar datos\n",
        "box_data = []\n",
        "labels = []\n",
        "for _, row in top_features_box.iterrows():\n",
        "    box_data.append(row[importance_cols].values)\n",
        "    labels.append(row[\"feature\"])\n",
        "\n",
        "plt.figure(figsize=(12, 10))\n",
        "bp = plt.boxplot(box_data, vert=False, labels=labels, patch_artist=True)\n",
        "\n",
        "# Colorear cajas\n",
        "for patch in bp['boxes']:\n",
        "    patch.set_facecolor('lightblue')\n",
        "    patch.set_alpha(0.7)\n",
        "\n",
        "plt.xlabel(\"Importancia (Gain)\", fontsize=12)\n",
        "plt.ylabel(\"Features\", fontsize=12)\n",
        "plt.title(f\"Distribución de Importancia entre Seeds\\nTop {top_n_box} Features\", fontsize=14, fontweight='bold')\n",
        "plt.grid(axis='x', alpha=0.3)\n",
        "plt.tight_layout()\n",
        "plt.show()\n"
      ]
    },
    {
      "cell_type": "markdown",
      "metadata": {},
      "source": [
        "### Resumen de Importancia por Tipo de Feature\n"
      ]
    },
    {
      "cell_type": "code",
      "execution_count": null,
      "metadata": {},
      "outputs": [],
      "source": [
        "# Analizar tipos de features\n",
        "def classify_feature(feature_name):\n",
        "    \"\"\"Clasificar feature según su nombre\"\"\"\n",
        "    feature_name = str(feature_name).lower()\n",
        "    \n",
        "    if 'delta' in feature_name:\n",
        "        return 'Delta'\n",
        "    elif 'lag' in feature_name:\n",
        "        return 'Lag'\n",
        "    elif 'master' in feature_name or 'visa' in feature_name:\n",
        "        return 'Tarjeta'\n",
        "    elif any(word in feature_name for word in ['ctrx', 'mtransferencias', 'transfer']):\n",
        "        return 'Transacciones'\n",
        "    elif any(word in feature_name for word in ['caja', 'cuenta', 'saldo']):\n",
        "        return 'Cuentas'\n",
        "    elif 'foto_mes' in feature_name:\n",
        "        return 'Temporal'\n",
        "    else:\n",
        "        return 'Otros'\n",
        "\n",
        "importances[\"feature_type\"] = importances[\"feature\"].apply(classify_feature)\n",
        "\n",
        "# Resumen por tipo\n",
        "type_summary = importances.groupby(\"feature_type\").agg({\n",
        "    \"importance_mean\": [\"sum\", \"mean\", \"count\"],\n",
        "    \"importance_std\": \"mean\"\n",
        "}).round(2)\n",
        "\n",
        "print(\"\\nResumen de importancia por tipo de feature:\")\n",
        "print(type_summary)\n",
        "\n",
        "# Gráfico de barras por tipo\n",
        "type_importance = importances.groupby(\"feature_type\")[\"importance_mean\"].sum().sort_values(ascending=False)\n",
        "\n",
        "plt.figure(figsize=(10, 6))\n",
        "plt.bar(range(len(type_importance)), type_importance.values, alpha=0.7)\n",
        "plt.xticks(range(len(type_importance)), type_importance.index, rotation=45, ha='right')\n",
        "plt.xlabel(\"Tipo de Feature\", fontsize=12)\n",
        "plt.ylabel(\"Importancia Total (Gain)\", fontsize=12)\n",
        "plt.title(\"Importancia Total por Tipo de Feature\", fontsize=14, fontweight='bold')\n",
        "plt.grid(axis='y', alpha=0.3)\n",
        "plt.tight_layout()\n",
        "plt.show()\n"
      ]
    },
    {
      "cell_type": "markdown",
      "metadata": {},
      "source": [
        "### Guardar Resultados\n"
      ]
    },
    {
      "cell_type": "code",
      "execution_count": null,
      "metadata": {},
      "outputs": [],
      "source": [
        "# Guardar tabla de importancias\n",
        "output_path = os.path.join(experiment_path, \"feature_importance_analysis.csv\")\n",
        "importances.to_csv(output_path, index=False)\n",
        "print(f\"\\nTabla de importancias guardada en: {output_path}\")\n",
        "\n",
        "# Guardar resumen\n",
        "summary_path = os.path.join(experiment_path, \"feature_importance_summary.txt\")\n",
        "with open(summary_path, \"w\") as f:\n",
        "    f.write(f\"Feature Importance Analysis\\n\")\n",
        "    f.write(f\"Experimento: {config['experiment']['name']}\\n\")\n",
        "    f.write(f\"Seeds utilizadas: {len(seeds)}\\n\\n\")\n",
        "    f.write(f\"Top 20 Features:\\n\")\n",
        "    f.write(importances[[\"feature\", \"importance_mean\", \"importance_std\", \"importance_cv\"]].head(20).to_string())\n",
        "    f.write(f\"\\n\\nResumen por tipo de feature:\\n\")\n",
        "    f.write(type_summary.to_string())\n",
        "\n",
        "print(f\"Resumen guardado en: {summary_path}\")\n"
      ]
    }
  ],
  "metadata": {
    "language_info": {
      "name": "python"
    }
  },
  "nbformat": 4,
  "nbformat_minor": 2
}
