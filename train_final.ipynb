{
 "cells": [
  {
   "cell_type": "code",
   "execution_count": 1,
   "id": "f264d922",
   "metadata": {},
   "outputs": [
    {
     "name": "stderr",
     "output_type": "stream",
     "text": [
      "/Users/frjofre/Documents/EyF/dmeyf2025/.venv/lib/python3.12/site-packages/tqdm/auto.py:21: TqdmWarning: IProgress not found. Please update jupyter and ipywidgets. See https://ipywidgets.readthedocs.io/en/stable/user_install.html\n",
      "  from .autonotebook import tqdm as notebook_tqdm\n"
     ]
    }
   ],
   "source": [
    "from dmeyf2025.modelling.train_model import train_models\n",
    "from dmeyf2025.experiments.experiments import load_config\n",
    "from dmeyf2025.etl import ETL\n",
    "from dmeyf2025.processors.target_processor import BinaryTargetProcessor, CreateTargetProcessor\n",
    "from dmeyf2025.processors.sampler import SamplerProcessor\n",
    "from dmeyf2025.processors.feature_processors import DeltaLagTransformer\n",
    "from dmeyf2025.metrics.revenue import lgb_gan_eval, revenue_from_prob\n",
    "from run_experiment import get_features\n",
    "import json\n",
    "import os\n",
    "import numpy as np\n",
    "import lightgbm as lgb\n",
    "import pandas as pd\n",
    "\n"
   ]
  },
  {
   "cell_type": "markdown",
   "id": "b405d9e4",
   "metadata": {},
   "source": [
    "# Config"
   ]
  },
  {
   "cell_type": "code",
   "execution_count": 2,
   "id": "d8185541",
   "metadata": {},
   "outputs": [],
   "source": [
    "experiment_path = \"experiments/delta-lags-percentile_0.1_150_01-04_G_Base_0.0.6\"\n",
    "#params = json.load(open(os.path.join(experiment_path, \"best_params.json\")))\n",
    "config = load_config(os.path.join(experiment_path, \"config.yaml\"))\n",
    "\n"
   ]
  },
  {
   "cell_type": "code",
   "execution_count": 3,
   "id": "d94c6c84",
   "metadata": {},
   "outputs": [],
   "source": [
    "train_months = config[\"data\"][\"train_months\"]\n",
    "eval_month = config[\"data\"][\"eval_month\"]\n",
    "positive_class = config[\"experiment\"][\"positive_classes\"]\n",
    "seeds = config[\"experiment\"][\"seeds\"]\n",
    "data_path = config[\"experiment\"][\"raw_data_path\"]\n",
    "sample_ratio = config[\"experiment\"][\"sample_ratio\"]\n",
    "test_months = 202105\n"
   ]
  },
  {
   "cell_type": "markdown",
   "id": "205936e7",
   "metadata": {},
   "source": [
    "# Processing"
   ]
  },
  {
   "cell_type": "code",
   "execution_count": 13,
   "id": "8652a9e4",
   "metadata": {},
   "outputs": [
    {
     "name": "stderr",
     "output_type": "stream",
     "text": [
      "15:23:18 | INFO | Iniciando pipeline ETL completo...\n",
      "15:23:22 | INFO | Archivo leído exitosamente: 978439 filas, 155 columnas\n",
      "15:23:25 | INFO | Procesamiento completado: 978439 filas, 155 columnas\n",
      "15:23:26 | INFO | DataFrame train: 978439\n",
      "15:23:26 | INFO | Pipeline ETL completado exitosamente!\n"
     ]
    }
   ],
   "source": [
    "etl = ETL(data_path, CreateTargetProcessor(),\n",
    "train_months = [202101, 202102, 202103, 202104, 202105, 202106],)\n",
    "X, y, _,_,_,_ = etl.execute_complete_pipeline()\n",
    "target_processor = BinaryTargetProcessor(positive_class)\n",
    "X, y = target_processor.fit_transform(X, y)"
   ]
  },
  {
   "cell_type": "code",
   "execution_count": 21,
   "id": "82891888",
   "metadata": {},
   "outputs": [],
   "source": [
    "X[\"target\"] = y\n",
    "X_transformed = get_features(X)\n",
    "X_transformed.set_index(\"numero_de_cliente\", inplace=True)\n"
   ]
  },
  {
   "cell_type": "code",
   "execution_count": 25,
   "id": "32dcb09c",
   "metadata": {},
   "outputs": [
    {
     "data": {
      "text/plain": [
       "numero_de_cliente\n",
       "249221323     0\n",
       "249227600     0\n",
       "249234235     0\n",
       "249244449     0\n",
       "249244739     0\n",
       "             ..\n",
       "1598368433    0\n",
       "1598419415    0\n",
       "1598425905    0\n",
       "1598470389    0\n",
       "1598550167    0\n",
       "Name: target, Length: 978439, dtype: int64"
      ]
     },
     "execution_count": 25,
     "metadata": {},
     "output_type": "execute_result"
    }
   ],
   "source": [
    "X_transformed[\"target\"]"
   ]
  },
  {
   "cell_type": "code",
   "execution_count": 22,
   "id": "9fb591ab",
   "metadata": {},
   "outputs": [],
   "source": [
    "X_train = X_transformed[X_transformed[\"foto_mes\"].isin(train_months)]\n",
    "X_eval = X_transformed[X_transformed[\"foto_mes\"].isin([eval_month])]\n",
    "X_test = X_transformed[X_transformed[\"foto_mes\"].isin([202105])] # Solo para ver el escalado"
   ]
  },
  {
   "cell_type": "code",
   "execution_count": 26,
   "id": "35e6a09e",
   "metadata": {},
   "outputs": [],
   "source": [
    "y_train = X_train[\"target\"]\n",
    "X_train = X_train.drop(columns=[\"target\"])"
   ]
  },
  {
   "cell_type": "code",
   "execution_count": 29,
   "id": "35c49b28",
   "metadata": {},
   "outputs": [
    {
     "data": {
      "text/plain": [
       "(650209, 786)"
      ]
     },
     "execution_count": 29,
     "metadata": {},
     "output_type": "execute_result"
    }
   ],
   "source": [
    "X_train.shape"
   ]
  },
  {
   "cell_type": "code",
   "execution_count": 27,
   "id": "27893b03",
   "metadata": {},
   "outputs": [
    {
     "name": "stderr",
     "output_type": "stream",
     "text": [
      "15:29:22 | INFO | ✅ Dataset final: 71667 registros\n",
      "15:29:22 | INFO |    - Clase positiva: 7385\n",
      "15:29:22 | INFO |    - Clase negativa: 64282\n"
     ]
    }
   ],
   "source": [
    "sampler_processor = SamplerProcessor(0.1)\n",
    "X_train_sampled, y_train_sampled = sampler_processor.fit_transform(X_train, y_train)"
   ]
  },
  {
   "cell_type": "code",
   "execution_count": 28,
   "id": "692ba2d8",
   "metadata": {},
   "outputs": [
    {
     "data": {
      "text/plain": [
       "(71667, 786)"
      ]
     },
     "execution_count": 28,
     "metadata": {},
     "output_type": "execute_result"
    }
   ],
   "source": [
    "X_train_sampled.shape"
   ]
  },
  {
   "cell_type": "code",
   "execution_count": 8,
   "id": "7a91af29",
   "metadata": {},
   "outputs": [
    {
     "name": "stderr",
     "output_type": "stream",
     "text": [
      "/var/folders/rc/prpxq6zd0654fg2rm3jwwx8h0000gp/T/ipykernel_47879/1619427130.py:2: PerformanceWarning: DataFrame is highly fragmented.  This is usually the result of calling `frame.insert` many times, which has poor performance.  Consider joining all columns at once using pd.concat(axis=1) instead. To get a de-fragmented frame, use `newframe = frame.copy()`\n",
      "  X_transformed.loc[:, \"label\"] = y\n"
     ]
    }
   ],
   "source": [
    "X_transformed.set_index(\"numero_de_cliente\", inplace=True)\n",
    "X_transformed.loc[:, \"label\"] = y\n"
   ]
  },
  {
   "cell_type": "code",
   "execution_count": 9,
   "id": "d60fbb67",
   "metadata": {},
   "outputs": [],
   "source": [
    "X_train = X_transformed[X_transformed[\"foto_mes\"].isin(train_months)]\n",
    "y_train = X_train[\"label\"]\n",
    "X_train = X_train.drop(columns=[\"label\"])\n",
    "X_eval = X_transformed[X_transformed[\"foto_mes\"].isin([eval_month])]\n",
    "X_eval = X_eval.drop(columns=[\"label\"])\n",
    "X_test = X_transformed[X_transformed[\"foto_mes\"].isin([202105])] # Solo para ver el escalado\n"
   ]
  },
  {
   "cell_type": "markdown",
   "id": "32961e9f",
   "metadata": {},
   "source": [
    "# Train"
   ]
  },
  {
   "cell_type": "code",
   "execution_count": 10,
   "id": "50ea117d",
   "metadata": {},
   "outputs": [],
   "source": [
    "preds, models= train_models(X_train, y_train, X_eval, params, seeds, experiment_path)"
   ]
  },
  {
   "cell_type": "markdown",
   "id": "e29825bb",
   "metadata": {},
   "source": [
    "# Features"
   ]
  },
  {
   "cell_type": "code",
   "execution_count": 24,
   "id": "37b652f6",
   "metadata": {},
   "outputs": [
    {
     "data": {
      "text/plain": [
       "<Axes: title={'center': 'Feature importance'}, xlabel='Feature importance', ylabel='Features'>"
      ]
     },
     "execution_count": 24,
     "metadata": {},
     "output_type": "execute_result"
    },
    {
     "data": {
      "image/png": "[encoded data removed]",
      "text/plain": [
       "<Figure size 1000x500 with 1 Axes>"
      ]
     },
     "metadata": {},
     "output_type": "display_data"
    }
   ],
   "source": [
    "model  = models[0]\n",
    "lgb.plot_importance(model, importance_type=\"split\", max_num_features=10, figsize=(10, 5))\n"
   ]
  },
  {
   "cell_type": "code",
   "execution_count": 39,
   "id": "dabcae23",
   "metadata": {},
   "outputs": [],
   "source": [
    "importances = pd.DataFrame()\n",
    "importances[\"feature\"] = X_train.columns\n",
    "for n, model in enumerate(models):\n",
    "    importances[f\"importance_{n}\"] = model.feature_importance(importance_type=\"gain\")"
   ]
  },
  {
   "cell_type": "code",
   "execution_count": 41,
   "id": "5cb2ce04",
   "metadata": {},
   "outputs": [
    {
     "data": {
      "text/html": [
       "<div>\n",
       "<style scoped>\n",
       "    .dataframe tbody tr th:only-of-type {\n",
       "        vertical-align: middle;\n",
       "    }\n",
       "\n",
       "    .dataframe tbody tr th {\n",
       "        vertical-align: top;\n",
       "    }\n",
       "\n",
       "    .dataframe thead th {\n",
       "        text-align: right;\n",
       "    }\n",
       "</style>\n",
       "<table border=\"1\" class=\"dataframe\">\n",
       "  <thead>\n",
       "    <tr style=\"text-align: right;\">\n",
       "      <th></th>\n",
       "      <th>feature</th>\n",
       "      <th>importance_0</th>\n",
       "      <th>importance_1</th>\n",
       "      <th>importance_2</th>\n",
       "      <th>importance_3</th>\n",
       "      <th>importance_4</th>\n",
       "      <th>importance_mean</th>\n",
       "    </tr>\n",
       "  </thead>\n",
       "  <tbody>\n",
       "    <tr>\n",
       "      <th>106</th>\n",
       "      <td>ctrx_quarter</td>\n",
       "      <td>406083.784024</td>\n",
       "      <td>400763.957397</td>\n",
       "      <td>417159.349328</td>\n",
       "      <td>367015.132204</td>\n",
       "      <td>433217.271120</td>\n",
       "      <td>404847.898815</td>\n",
       "    </tr>\n",
       "    <tr>\n",
       "      <th>10</th>\n",
       "      <td>mpasivos_margen</td>\n",
       "      <td>86342.552867</td>\n",
       "      <td>86663.308896</td>\n",
       "      <td>79721.651296</td>\n",
       "      <td>96387.043661</td>\n",
       "      <td>80293.101643</td>\n",
       "      <td>85881.531673</td>\n",
       "    </tr>\n",
       "    <tr>\n",
       "      <th>50</th>\n",
       "      <td>cpayroll_trx</td>\n",
       "      <td>87181.161612</td>\n",
       "      <td>80922.621375</td>\n",
       "      <td>71011.031260</td>\n",
       "      <td>82760.060792</td>\n",
       "      <td>79646.681453</td>\n",
       "      <td>80304.311299</td>\n",
       "    </tr>\n",
       "    <tr>\n",
       "      <th>21</th>\n",
       "      <td>mcuentas_saldo</td>\n",
       "      <td>66851.319535</td>\n",
       "      <td>62634.921742</td>\n",
       "      <td>59330.204717</td>\n",
       "      <td>49816.617239</td>\n",
       "      <td>69955.570861</td>\n",
       "      <td>61717.726819</td>\n",
       "    </tr>\n",
       "    <tr>\n",
       "      <th>32</th>\n",
       "      <td>mprestamos_personales</td>\n",
       "      <td>64445.175852</td>\n",
       "      <td>58932.174345</td>\n",
       "      <td>64779.289887</td>\n",
       "      <td>56397.250846</td>\n",
       "      <td>62703.837027</td>\n",
       "      <td>61451.545591</td>\n",
       "    </tr>\n",
       "    <tr>\n",
       "      <th>51</th>\n",
       "      <td>mpayroll</td>\n",
       "      <td>52837.956673</td>\n",
       "      <td>58800.010352</td>\n",
       "      <td>65201.103436</td>\n",
       "      <td>58852.450547</td>\n",
       "      <td>53747.230218</td>\n",
       "      <td>57887.750245</td>\n",
       "    </tr>\n",
       "    <tr>\n",
       "      <th>17</th>\n",
       "      <td>mcaja_ahorro</td>\n",
       "      <td>44359.649628</td>\n",
       "      <td>52164.749289</td>\n",
       "      <td>45247.882357</td>\n",
       "      <td>54454.443749</td>\n",
       "      <td>41569.538317</td>\n",
       "      <td>47559.252668</td>\n",
       "    </tr>\n",
       "    <tr>\n",
       "      <th>251</th>\n",
       "      <td>ctrx_quarter_lag1</td>\n",
       "      <td>54574.483873</td>\n",
       "      <td>51065.036211</td>\n",
       "      <td>48789.290081</td>\n",
       "      <td>33365.244937</td>\n",
       "      <td>39109.527520</td>\n",
       "      <td>45380.716524</td>\n",
       "    </tr>\n",
       "    <tr>\n",
       "      <th>27</th>\n",
       "      <td>mtarjeta_visa_consumo</td>\n",
       "      <td>28656.159933</td>\n",
       "      <td>35554.148221</td>\n",
       "      <td>30417.980527</td>\n",
       "      <td>42108.724477</td>\n",
       "      <td>30461.913827</td>\n",
       "      <td>33439.785397</td>\n",
       "    </tr>\n",
       "    <tr>\n",
       "      <th>4</th>\n",
       "      <td>cliente_edad</td>\n",
       "      <td>32330.525962</td>\n",
       "      <td>33184.156214</td>\n",
       "      <td>31170.989710</td>\n",
       "      <td>33994.297160</td>\n",
       "      <td>32373.551349</td>\n",
       "      <td>32610.704079</td>\n",
       "    </tr>\n",
       "    <tr>\n",
       "      <th>7</th>\n",
       "      <td>mrentabilidad_annual</td>\n",
       "      <td>27480.176945</td>\n",
       "      <td>28439.670064</td>\n",
       "      <td>30835.247793</td>\n",
       "      <td>30175.327719</td>\n",
       "      <td>29228.461831</td>\n",
       "      <td>29231.776870</td>\n",
       "    </tr>\n",
       "    <tr>\n",
       "      <th>15</th>\n",
       "      <td>mcuenta_corriente</td>\n",
       "      <td>25950.623451</td>\n",
       "      <td>20916.200128</td>\n",
       "      <td>33474.784232</td>\n",
       "      <td>36997.684872</td>\n",
       "      <td>21967.911730</td>\n",
       "      <td>27861.440883</td>\n",
       "    </tr>\n",
       "    <tr>\n",
       "      <th>126</th>\n",
       "      <td>Master_fechaalta</td>\n",
       "      <td>24212.923146</td>\n",
       "      <td>25991.919009</td>\n",
       "      <td>24340.042762</td>\n",
       "      <td>21713.060586</td>\n",
       "      <td>24578.704772</td>\n",
       "      <td>24167.330055</td>\n",
       "    </tr>\n",
       "    <tr>\n",
       "      <th>9</th>\n",
       "      <td>mactivos_margen</td>\n",
       "      <td>23797.703500</td>\n",
       "      <td>23130.366805</td>\n",
       "      <td>24415.317033</td>\n",
       "      <td>25189.700884</td>\n",
       "      <td>23109.609642</td>\n",
       "      <td>23928.539573</td>\n",
       "    </tr>\n",
       "    <tr>\n",
       "      <th>112</th>\n",
       "      <td>Master_Fvencimiento</td>\n",
       "      <td>21794.924609</td>\n",
       "      <td>23348.876131</td>\n",
       "      <td>25177.932677</td>\n",
       "      <td>23310.320557</td>\n",
       "      <td>23266.181521</td>\n",
       "      <td>23379.647099</td>\n",
       "    </tr>\n",
       "    <tr>\n",
       "      <th>5</th>\n",
       "      <td>cliente_antiguedad</td>\n",
       "      <td>23428.869787</td>\n",
       "      <td>21486.231641</td>\n",
       "      <td>21551.994957</td>\n",
       "      <td>21424.236217</td>\n",
       "      <td>22950.763440</td>\n",
       "      <td>22168.419209</td>\n",
       "    </tr>\n",
       "    <tr>\n",
       "      <th>134</th>\n",
       "      <td>Visa_Fvencimiento</td>\n",
       "      <td>22158.500919</td>\n",
       "      <td>22276.042804</td>\n",
       "      <td>19812.675451</td>\n",
       "      <td>22776.883447</td>\n",
       "      <td>22740.124990</td>\n",
       "      <td>21952.845522</td>\n",
       "    </tr>\n",
       "    <tr>\n",
       "      <th>137</th>\n",
       "      <td>Visa_msaldopesos</td>\n",
       "      <td>19920.061250</td>\n",
       "      <td>20971.501080</td>\n",
       "      <td>20215.357295</td>\n",
       "      <td>18809.650232</td>\n",
       "      <td>28020.448338</td>\n",
       "      <td>21587.403639</td>\n",
       "    </tr>\n",
       "    <tr>\n",
       "      <th>156</th>\n",
       "      <td>mrentabilidad_annual_lag1</td>\n",
       "      <td>20505.499069</td>\n",
       "      <td>19944.207500</td>\n",
       "      <td>17749.890729</td>\n",
       "      <td>21869.896504</td>\n",
       "      <td>20780.107401</td>\n",
       "      <td>20169.920241</td>\n",
       "    </tr>\n",
       "    <tr>\n",
       "      <th>111</th>\n",
       "      <td>Master_mfinanciacion_limite</td>\n",
       "      <td>18432.118500</td>\n",
       "      <td>19382.521580</td>\n",
       "      <td>19368.955097</td>\n",
       "      <td>18798.114026</td>\n",
       "      <td>20878.617903</td>\n",
       "      <td>19372.065421</td>\n",
       "    </tr>\n",
       "  </tbody>\n",
       "</table>\n",
       "</div>"
      ],
      "text/plain": [
       "                         feature   importance_0   importance_1   importance_2  \\\n",
       "106                 ctrx_quarter  406083.784024  400763.957397  417159.349328   \n",
       "10               mpasivos_margen   86342.552867   86663.308896   79721.651296   \n",
       "50                  cpayroll_trx   87181.161612   80922.621375   71011.031260   \n",
       "21                mcuentas_saldo   66851.319535   62634.921742   59330.204717   \n",
       "32         mprestamos_personales   64445.175852   58932.174345   64779.289887   \n",
       "51                      mpayroll   52837.956673   58800.010352   65201.103436   \n",
       "17                  mcaja_ahorro   44359.649628   52164.749289   45247.882357   \n",
       "251            ctrx_quarter_lag1   54574.483873   51065.036211   48789.290081   \n",
       "27         mtarjeta_visa_consumo   28656.159933   35554.148221   30417.980527   \n",
       "4                   cliente_edad   32330.525962   33184.156214   31170.989710   \n",
       "7           mrentabilidad_annual   27480.176945   28439.670064   30835.247793   \n",
       "15             mcuenta_corriente   25950.623451   20916.200128   33474.784232   \n",
       "126             Master_fechaalta   24212.923146   25991.919009   24340.042762   \n",
       "9                mactivos_margen   23797.703500   23130.366805   24415.317033   \n",
       "112          Master_Fvencimiento   21794.924609   23348.876131   25177.932677   \n",
       "5             cliente_antiguedad   23428.869787   21486.231641   21551.994957   \n",
       "134            Visa_Fvencimiento   22158.500919   22276.042804   19812.675451   \n",
       "137             Visa_msaldopesos   19920.061250   20971.501080   20215.357295   \n",
       "156    mrentabilidad_annual_lag1   20505.499069   19944.207500   17749.890729   \n",
       "111  Master_mfinanciacion_limite   18432.118500   19382.521580   19368.955097   \n",
       "\n",
       "      importance_3   importance_4  importance_mean  \n",
       "106  367015.132204  433217.271120    404847.898815  \n",
       "10    96387.043661   80293.101643     85881.531673  \n",
       "50    82760.060792   79646.681453     80304.311299  \n",
       "21    49816.617239   69955.570861     61717.726819  \n",
       "32    56397.250846   62703.837027     61451.545591  \n",
       "51    58852.450547   53747.230218     57887.750245  \n",
       "17    54454.443749   41569.538317     47559.252668  \n",
       "251   33365.244937   39109.527520     45380.716524  \n",
       "27    42108.724477   30461.913827     33439.785397  \n",
       "4     33994.297160   32373.551349     32610.704079  \n",
       "7     30175.327719   29228.461831     29231.776870  \n",
       "15    36997.684872   21967.911730     27861.440883  \n",
       "126   21713.060586   24578.704772     24167.330055  \n",
       "9     25189.700884   23109.609642     23928.539573  \n",
       "112   23310.320557   23266.181521     23379.647099  \n",
       "5     21424.236217   22950.763440     22168.419209  \n",
       "134   22776.883447   22740.124990     21952.845522  \n",
       "137   18809.650232   28020.448338     21587.403639  \n",
       "156   21869.896504   20780.107401     20169.920241  \n",
       "111   18798.114026   20878.617903     19372.065421  "
      ]
     },
     "execution_count": 41,
     "metadata": {},
     "output_type": "execute_result"
    }
   ],
   "source": [
    "importances[\"importance_mean\"] = importances.drop(columns=[\"feature\"]).mean(axis=1)\n",
    "importances.sort_values(by=\"importance_mean\", ascending=False, inplace=True)\n",
    "importances.head(20)"
   ]
  },
  {
   "cell_type": "markdown",
   "id": "94f9d875",
   "metadata": {},
   "source": [
    "# Predict"
   ]
  },
  {
   "cell_type": "code",
   "execution_count": null,
   "id": "306a3dc2",
   "metadata": {},
   "outputs": [],
   "source": [
    "import numpy as np\n",
    "ones = np.ones(10000, dtype=int)\n",
    "zeros = np.zeros(len(preds)-10000, dtype=int)\n",
    "predictions = np.concatenate([ones, zeros])"
   ]
  },
  {
   "cell_type": "code",
   "execution_count": null,
   "id": "8300ce80",
   "metadata": {},
   "outputs": [],
   "source": [
    "ones = np.ones(10000, dtype=int)\n",
    "zeros = np.zeros(len(preds)-10000, dtype=int)\n",
    "predictions = np.concatenate([ones, zeros])\n",
    "preds[\"predicted\"] = predictions\n",
    "preds[[\"numero_de_cliente\", \"predicted\"]].to_csv(f\"{experiment_path}/DeltaLags2_0.3_150_01-04_G_0.0.2_ensemble_10k_predictions.csv\", index=False)"
   ]
  }
 ],
 "metadata": {
  "kernelspec": {
   "display_name": ".venv",
   "language": "python",
   "name": "python3"
  },
  "language_info": {
   "codemirror_mode": {
    "name": "ipython",
    "version": 3
   },
   "file_extension": ".py",
   "mimetype": "text/x-python",
   "name": "python",
   "nbconvert_exporter": "python",
   "pygments_lexer": "ipython3",
   "version": "3.12.0"
  }
 },
 "nbformat": 4,
 "nbformat_minor": 5
}
