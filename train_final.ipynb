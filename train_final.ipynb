{
 "cells": [
  {
   "cell_type": "code",
   "execution_count": 20,
   "id": "f264d922",
   "metadata": {},
   "outputs": [],
   "source": [
    "from dmeyf2025.modelling.train_model import train_models\n",
    "from dmeyf2025.experiments.experiments import load_config\n",
    "from dmeyf2025.etl import ETL\n",
    "from dmeyf2025.processors.target_processor import BinaryTargetProcessor, CreateTargetProcessor\n",
    "from dmeyf2025.processors.sampler import SamplerProcessor\n",
    "from dmeyf2025.processors.feature_processors import DeltaLagTransformer\n",
    "from dmeyf2025.metrics.revenue import lgb_gan_eval, revenue_from_prob\n",
    "from run_experiment import get_features\n",
    "import json\n",
    "import os\n",
    "import numpy as np\n",
    "import lightgbm as lgb\n",
    "import pandas as pd\n",
    "\n"
   ]
  },
  {
   "cell_type": "markdown",
   "id": "b405d9e4",
   "metadata": {},
   "source": [
    "# Config"
   ]
  },
  {
   "cell_type": "code",
   "execution_count": null,
   "id": "d8185541",
   "metadata": {},
   "outputs": [],
   "source": [
    "experiment_path = \"experiments/delta-lags-percentile_0.1_150_03-04_G_Base_0.0.6\"\n",
    "config = load_config(os.path.join(experiment_path, \"config.yaml\"))\n",
    "\n"
   ]
  },
  {
   "cell_type": "code",
   "execution_count": 22,
   "id": "d94c6c84",
   "metadata": {},
   "outputs": [],
   "source": [
    "train_months = config[\"data\"][\"train_months\"]\n",
    "eval_month = config[\"data\"][\"eval_month\"]\n",
    "positive_class = config[\"experiment\"][\"positive_classes\"]\n",
    "seeds = config[\"experiment\"][\"seeds\"]\n",
    "data_path = config[\"experiment\"][\"raw_data_path\"]\n",
    "sample_ratio = config[\"experiment\"][\"sample_ratio\"]\n",
    "test_months = 202105\n"
   ]
  },
  {
   "cell_type": "markdown",
   "id": "205936e7",
   "metadata": {},
   "source": [
    "# Processing"
   ]
  },
  {
   "cell_type": "code",
   "execution_count": 23,
   "id": "8652a9e4",
   "metadata": {},
   "outputs": [
    {
     "name": "stderr",
     "output_type": "stream",
     "text": [
      "19:58:05 | INFO | Iniciando pipeline ETL completo...\n",
      "19:58:08 | INFO | Archivo leído exitosamente: 978439 filas, 155 columnas\n",
      "19:58:12 | INFO | Procesamiento completado: 978439 filas, 155 columnas\n",
      "19:58:13 | INFO | DataFrame train: 978439\n",
      "19:58:13 | INFO | Pipeline ETL completado exitosamente!\n"
     ]
    }
   ],
   "source": [
    "etl = ETL(data_path, CreateTargetProcessor(),\n",
    "train_months = [202101, 202102, 202103, 202104, 202105, 202106],)\n",
    "X, y, _,_,_,_ = etl.execute_complete_pipeline()\n",
    "target_processor = BinaryTargetProcessor(positive_class)\n",
    "X, y = target_processor.fit_transform(X, y)"
   ]
  },
  {
   "cell_type": "code",
   "execution_count": 24,
   "id": "82891888",
   "metadata": {},
   "outputs": [],
   "source": [
    "X[\"target\"] = y\n",
    "X_transformed = get_features(X)\n",
    "X_transformed.set_index(\"numero_de_cliente\", inplace=True)\n"
   ]
  },
  {
   "cell_type": "code",
   "execution_count": 25,
   "id": "9fb591ab",
   "metadata": {},
   "outputs": [],
   "source": [
    "X_train = X_transformed[X_transformed[\"foto_mes\"].isin(train_months)]\n",
    "X_eval = X_transformed[X_transformed[\"foto_mes\"].isin([eval_month])]\n",
    "X_test = X_transformed[X_transformed[\"foto_mes\"].isin([202105])] # Solo para ver el escalado\n",
    "y_train = X_train[\"target\"]\n",
    "X_train = X_train.drop(columns=[\"target\"])\n",
    "X_eval = X_eval.drop(columns=[\"target\"])"
   ]
  },
  {
   "cell_type": "code",
   "execution_count": 26,
   "id": "c1cbb662",
   "metadata": {},
   "outputs": [
    {
     "name": "stderr",
     "output_type": "stream",
     "text": [
      "19:58:41 | INFO | ✅ Dataset final: 36320 registros\n",
      "19:58:41 | INFO |    - Clase positiva: 4075\n",
      "19:58:41 | INFO |    - Clase negativa: 32245\n"
     ]
    }
   ],
   "source": [
    "sampler_processor = SamplerProcessor(0.1, random_state=seeds[0])\n",
    "X_train_sampled, y_train_sampled = sampler_processor.fit_transform(X_train, y_train)\n"
   ]
  },
  {
   "cell_type": "markdown",
   "id": "32961e9f",
   "metadata": {},
   "source": [
    "# Train"
   ]
  },
  {
   "cell_type": "code",
   "execution_count": 27,
   "id": "005f66ba",
   "metadata": {},
   "outputs": [],
   "source": [
    "#load hyperparams\n",
    "params = json.load(open(os.path.join(experiment_path, \"best_params.json\")))\n",
    "params[\"min_data_in_leaf\"] = int(params[\"min_data_in_leaf\"]/(len(X_train_sampled)/len(X_train)))\n"
   ]
  },
  {
   "cell_type": "code",
   "execution_count": 28,
   "id": "19fd9d25",
   "metadata": {},
   "outputs": [
    {
     "name": "stderr",
     "output_type": "stream",
     "text": [
      "19:58:42 | INFO | Training dataset shape: (326527, 713)\n",
      "19:58:42 | INFO | Evaluating dataset shape: (164313, 713)\n",
      "19:58:42 | INFO | Training final model with seed: 537919\n",
      "19:58:56 | INFO | Training final model with seed: 923347\n",
      "19:59:09 | INFO | Training final model with seed: 173629\n",
      "19:59:23 | INFO | Training final model with seed: 419351\n",
      "19:59:36 | INFO | Training final model with seed: 287887\n",
      "19:59:48 | INFO | Training final model with seed: 41\n",
      "20:00:01 | INFO | Training final model with seed: 42\n",
      "20:00:14 | INFO | Training final model with seed: 43\n",
      "20:00:27 | INFO | Training final model with seed: 44\n",
      "20:00:41 | INFO | Training final model with seed: 45\n"
     ]
    }
   ],
   "source": [
    "preds, models= train_models(X_train, y_train, X_eval, params, seeds[:10], experiment_path)"
   ]
  },
  {
   "cell_type": "markdown",
   "id": "93f1b91a",
   "metadata": {},
   "source": [
    "# Scale eval"
   ]
  },
  {
   "cell_type": "code",
   "execution_count": null,
   "id": "cbdacd26",
   "metadata": {},
   "outputs": [],
   "source": [
    "cpayroll_pivot = X.pivot(index=\"numero_de_cliente\", columns=\"foto_mes\", values=\"cpayroll_trx\")\n",
    "# Calcula el salto entre 202106 y 202105\n",
    "cpayroll_pivot[\"jump_202106_202105\"] = cpayroll_pivot[202106] - cpayroll_pivot[202105]\n",
    "# Selecciona clientes con salto de 1 o más\n",
    "clientes_salto = cpayroll_pivot[cpayroll_pivot[\"jump_202106_202105\"] >= 1].index.tolist()\n",
    "\n",
    "factors = {\"cpayroll_trx\": 2, \"mcuentas_saldo\": 2, \"mpayroll\": 1.6, \"mtransferencias_recibidas\": 1.6, \"cextraccion_autoservicio\": 1.5} # Esto salió de una exploración visual\n",
    "\n",
    "X[\"target\"] = y\n",
    "X_transformed = get_features(X)\n",
    "X_transformed.set_index(\"numero_de_cliente\", inplace=True)\n",
    "\n",
    "X_train = X_transformed[X_transformed[\"foto_mes\"].isin(train_months)]\n",
    "X_eval = X_transformed[X_transformed[\"foto_mes\"].isin([eval_month])]\n",
    "X_test = X_transformed[X_transformed[\"foto_mes\"].isin([202105])] # Solo para ver el escalado\n",
    "y_train = X_train[\"target\"]\n",
    "X_train = X_train.drop(columns=[\"target\"])\n",
    "X_eval = X_eval.drop(columns=[\"target\"])\n",
    "\n"
   ]
  },
  {
   "cell_type": "code",
   "execution_count": 30,
   "id": "2578e7d5",
   "metadata": {},
   "outputs": [
    {
     "name": "stderr",
     "output_type": "stream",
     "text": [
      "/var/folders/rc/prpxq6zd0654fg2rm3jwwx8h0000gp/T/ipykernel_51952/2901171996.py:1: FutureWarning: Setting an item of incompatible dtype is deprecated and will raise an error in a future version of pandas. Value '[1.  1.  1.5 ... 1.5 0.5 1.5]' has dtype incompatible with int64, please explicitly cast to a compatible dtype first.\n",
      "  X_eval.loc[clientes_salto, factors.keys()] = X_eval.loc[clientes_salto, factors.keys()] / factors.values()\n",
      "/var/folders/rc/prpxq6zd0654fg2rm3jwwx8h0000gp/T/ipykernel_51952/2901171996.py:1: FutureWarning: Setting an item of incompatible dtype is deprecated and will raise an error in a future version of pandas. Value '[0.         2.66666667 2.         ... 6.66666667 0.         4.66666667]' has dtype incompatible with int64, please explicitly cast to a compatible dtype first.\n",
      "  X_eval.loc[clientes_salto, factors.keys()] = X_eval.loc[clientes_salto, factors.keys()] / factors.values()\n"
     ]
    }
   ],
   "source": [
    "X_eval.loc[clientes_salto, factors.keys()] = X_eval.loc[clientes_salto, factors.keys()] / factors.values()\n",
    "X_eval.loc[clientes_salto, \"cpayroll_trx\"] = np.ceil(X_eval.loc[clientes_salto, \"cpayroll_trx\"])\n",
    "\n",
    "X_eval.loc[clientes_salto, \"cextraccion_autoservicio\"] = np.ceil(X_eval.loc[clientes_salto, \"cextraccion_autoservicio\"])\n"
   ]
  },
  {
   "cell_type": "code",
   "execution_count": 33,
   "id": "2aa27a9e",
   "metadata": {},
   "outputs": [],
   "source": [
    "from dmeyf2025.modelling.train_model import predict_ensemble_model\n",
    "preds = predict_ensemble_model(models, X_eval)"
   ]
  },
  {
   "cell_type": "code",
   "execution_count": 35,
   "id": "7a5824a7",
   "metadata": {},
   "outputs": [],
   "source": [
    "from dmeyf2025.modelling.train_model import prob_to_sends\n",
    "\n",
    "experiment_path = \"experiments\"\n",
    "experiment_folder = \"delta-lags-percentile_0.1_150_03-04_G_Base_0.0.6\"\n",
    "config[\"experiment\"][\"experiment_folder\"] = experiment_folder\n",
    "config[\"experiment\"][\"experiments_path\"] = experiment_path\n",
    "\n",
    "_ = prob_to_sends(config[\"experiment\"], preds, 10000, f\"hpscaled_factors\")\n",
    "\n"
   ]
  }
 ],
 "metadata": {
  "kernelspec": {
   "display_name": ".venv",
   "language": "python",
   "name": "python3"
  },
  "language_info": {
   "codemirror_mode": {
    "name": "ipython",
    "version": 3
   },
   "file_extension": ".py",
   "mimetype": "text/x-python",
   "name": "python",
   "nbconvert_exporter": "python",
   "pygments_lexer": "ipython3",
   "version": "3.12.0"
  }
 },
 "nbformat": 4,
 "nbformat_minor": 5
}
