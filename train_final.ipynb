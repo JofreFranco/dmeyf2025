{
 "cells": [
  {
   "cell_type": "code",
   "execution_count": 1,
   "id": "f264d922",
   "metadata": {},
   "outputs": [],
   "source": [
    "from dmeyf2025.modelling.train_model import train_ensemble_model\n",
    "from dmeyf2025.experiments.experiments import load_config\n",
    "from dmeyf2025.etl import ETL\n",
    "from dmeyf2025.processors.target_processor import BinaryTargetProcessor, CreateTargetProcessor\n",
    "from dmeyf2025.processors.sampler import SamplerProcessor\n",
    "from dmeyf2025.processors.feature_processors import DeltaLagTransformer\n",
    "from dmeyf2025.metrics.revenue import lgb_gan_eval\n",
    "import json\n",
    "import os\n",
    "import numpy as np"
   ]
  },
  {
   "cell_type": "markdown",
   "id": "b405d9e4",
   "metadata": {},
   "source": [
    "# Config"
   ]
  },
  {
   "cell_type": "code",
   "execution_count": 2,
   "id": "d8185541",
   "metadata": {},
   "outputs": [],
   "source": [
    "experiment_path = \"experiments/DeltaLags2_0.3_150_01-04_G_0.0.1\"\n",
    "params = json.load(open(os.path.join(experiment_path, \"best_params.json\")))\n",
    "config = load_config(os.path.join(experiment_path, \"config.yaml\"))\n",
    "\n"
   ]
  },
  {
   "cell_type": "code",
   "execution_count": 3,
   "id": "d94c6c84",
   "metadata": {},
   "outputs": [],
   "source": [
    "train_months = config[\"data\"][\"train_months\"]\n",
    "eval_month = config[\"data\"][\"eval_month\"]\n",
    "positive_class = config[\"experiment\"][\"positive_classes\"]\n",
    "seeds = config[\"experiment\"][\"seeds\"]\n",
    "data_path = config[\"experiment\"][\"raw_data_path\"]\n",
    "params.pop(\"seed\")\n",
    "sample_ratio = config[\"experiment\"][\"sample_ratio\"]\n",
    "test_months = 202105\n"
   ]
  },
  {
   "cell_type": "markdown",
   "id": "205936e7",
   "metadata": {},
   "source": [
    "# Processing"
   ]
  },
  {
   "cell_type": "code",
   "execution_count": 4,
   "id": "8652a9e4",
   "metadata": {},
   "outputs": [],
   "source": [
    "etl = ETL(data_path, CreateTargetProcessor(),\n",
    "train_months = [202101, 202102, 202103, 202104, 202105, 202106],)\n",
    "X, y, _,_,_,_ = etl.execute_complete_pipeline()\n",
    "target_processor = BinaryTargetProcessor(positive_class)\n",
    "X, y = target_processor.fit_transform(X, y)"
   ]
  },
  {
   "cell_type": "code",
   "execution_count": 5,
   "id": "3cce3eda",
   "metadata": {},
   "outputs": [
    {
     "name": "stdout",
     "output_type": "stream",
     "text": [
      "X_train_transformed.shape: (978439, 714)\n"
     ]
    }
   ],
   "source": [
    "delta_lag_transformer = DeltaLagTransformer(n_deltas=2, n_lags=2)\n",
    "X_transformed = delta_lag_transformer.fit_transform(X)\n",
    "print(f\"X_train_transformed.shape: {X_transformed.shape}\")\n"
   ]
  },
  {
   "cell_type": "code",
   "execution_count": 6,
   "id": "7a91af29",
   "metadata": {},
   "outputs": [
    {
     "name": "stderr",
     "output_type": "stream",
     "text": [
      "/var/folders/rc/prpxq6zd0654fg2rm3jwwx8h0000gp/T/ipykernel_37269/1619427130.py:2: PerformanceWarning: DataFrame is highly fragmented.  This is usually the result of calling `frame.insert` many times, which has poor performance.  Consider joining all columns at once using pd.concat(axis=1) instead. To get a de-fragmented frame, use `newframe = frame.copy()`\n",
      "  X_transformed.loc[:, \"label\"] = y\n"
     ]
    }
   ],
   "source": [
    "X_transformed.set_index(\"numero_de_cliente\", inplace=True)\n",
    "X_transformed.loc[:, \"label\"] = y\n"
   ]
  },
  {
   "cell_type": "code",
   "execution_count": 7,
   "id": "d60fbb67",
   "metadata": {},
   "outputs": [],
   "source": [
    "X_train = X_transformed[X_transformed[\"foto_mes\"].isin(train_months)]\n",
    "y_train = X_train[\"label\"]\n",
    "X_train = X_train.drop(columns=[\"label\"])\n",
    "X_eval = X_transformed[X_transformed[\"foto_mes\"].isin([eval_month])]\n",
    "X_eval = X_eval.drop(columns=[\"label\"])\n",
    "X_test = X_transformed[X_transformed[\"foto_mes\"].isin([202105])] # Solo para ver el escalado\n"
   ]
  },
  {
   "cell_type": "code",
   "execution_count": 8,
   "id": "e50b4047",
   "metadata": {},
   "outputs": [],
   "source": [
    "#Reescalado de hiperparámetros\n",
    "#params[\"min_data_in_leaf\"] = int(params[\"min_data_in_leaf\"]/sample_ratio)"
   ]
  },
  {
   "cell_type": "code",
   "execution_count": 9,
   "id": "3c2301bd",
   "metadata": {},
   "outputs": [
    {
     "data": {
      "text/plain": [
       "\"sampler_processor = SamplerProcessor(experiment_config['SAMPLE_RATIO'])\\n    X_train_sampled, y_train_sampled = sampler_processor.fit_transform(X_train, y_train)\""
      ]
     },
     "execution_count": 9,
     "metadata": {},
     "output_type": "execute_result"
    }
   ],
   "source": [
    "\"\"\"sampler_processor = SamplerProcessor(experiment_config['SAMPLE_RATIO'])\n",
    "    X_train_sampled, y_train_sampled = sampler_processor.fit_transform(X_train, y_train)\"\"\""
   ]
  },
  {
   "cell_type": "markdown",
   "id": "32961e9f",
   "metadata": {},
   "source": [
    "# Train"
   ]
  },
  {
   "cell_type": "code",
   "execution_count": 10,
   "id": "50ea117d",
   "metadata": {},
   "outputs": [],
   "source": [
    "preds, models= train_ensemble_model(X_train, y_train, X_eval, params, seeds, experiment_path)"
   ]
  },
  {
   "cell_type": "code",
   "execution_count": 11,
   "id": "306a3dc2",
   "metadata": {},
   "outputs": [],
   "source": [
    "import numpy as np\n",
    "ones = np.ones(10000, dtype=int)\n",
    "zeros = np.zeros(len(preds)-10000, dtype=int)\n",
    "predictions = np.concatenate([ones, zeros])\n",
    "\n"
   ]
  },
  {
   "cell_type": "code",
   "execution_count": null,
   "id": "8300ce80",
   "metadata": {},
   "outputs": [],
   "source": [
    "ones = np.ones(10000, dtype=int)\n",
    "zeros = np.zeros(len(preds)-10000, dtype=int)\n",
    "predictions = np.concatenate([ones, zeros])\n",
    "preds[\"predicted\"] = predictions\n",
    "preds[[\"numero_de_cliente\", \"predicted\"]].to_csv(f\"{experiment_path}/DeltaLags2_0.3_150_01-04_G_0.0.2_ensemble_10k_predictions.csv\", index=False)"
   ]
  },
  {
   "cell_type": "code",
   "execution_count": 13,
   "id": "357de852",
   "metadata": {},
   "outputs": [
    {
     "data": {
      "text/plain": [
       "(164313, 2)"
      ]
     },
     "execution_count": 13,
     "metadata": {},
     "output_type": "execute_result"
    }
   ],
   "source": [
    "preds[[\"numero_de_cliente\", \"predicted\"]].shape"
   ]
  },
  {
   "cell_type": "markdown",
   "id": "e78d9231",
   "metadata": {},
   "source": [
    "# Escalado de X_eval"
   ]
  },
  {
   "cell_type": "code",
   "execution_count": 14,
   "id": "c7583b9b",
   "metadata": {},
   "outputs": [],
   "source": [
    "from dmeyf2025.utils.data_dict import FINANCIAL_COLS\n",
    "etl = ETL(data_path, CreateTargetProcessor(),\n",
    "train_months = [202101, 202102, 202103, 202104, 202105, 202106],)\n",
    "X, y, _,_,_,_ = etl.execute_complete_pipeline()\n",
    "target_processor = BinaryTargetProcessor(positive_class)\n",
    "X, y = target_processor.fit_transform(X, y)\n",
    "\n",
    "X_eval = X[X[\"foto_mes\"].isin([eval_month])]\n",
    "X_test = X[X[\"foto_mes\"].isin([202105])] # Solo para ver el escalado\n"
   ]
  },
  {
   "cell_type": "code",
   "execution_count": 15,
   "id": "51b4fa12",
   "metadata": {},
   "outputs": [],
   "source": [
    "cols_mayores_145 = (X_eval[FINANCIAL_COLS].mean() / X_test[FINANCIAL_COLS].mean()).sort_values()\n",
    "cols_mayores_145 = cols_mayores_145[cols_mayores_145 > 1.45].index.tolist()"
   ]
  },
  {
   "cell_type": "code",
   "execution_count": 16,
   "id": "2b603c7a",
   "metadata": {},
   "outputs": [],
   "source": [
    "ratio_df = (\n",
    "    X_eval[[\"numero_de_cliente\"] + cols_mayores_145]\n",
    "    .set_index(\"numero_de_cliente\")\n",
    "    .divide(\n",
    "        X_test[[\"numero_de_cliente\"] + cols_mayores_145]\n",
    "        .set_index(\"numero_de_cliente\"),\n",
    "        fill_value=np.nan\n",
    "    )\n",
    ")\n",
    "ratio_df.reset_index(inplace=True)\n",
    "scaling_clients = ratio_df[\"numero_de_cliente\"]"
   ]
  },
  {
   "cell_type": "code",
   "execution_count": 17,
   "id": "528480ce",
   "metadata": {},
   "outputs": [],
   "source": [
    "X.loc[X[\"numero_de_cliente\"].isin(scaling_clients) & (X[\"foto_mes\"] == 202106), cols_mayores_145] = X.loc[X[\"numero_de_cliente\"].isin(scaling_clients) & (X[\"foto_mes\"] == 202106), cols_mayores_145] / 1.3"
   ]
  },
  {
   "cell_type": "code",
   "execution_count": 18,
   "id": "1d2c677b",
   "metadata": {},
   "outputs": [
    {
     "name": "stdout",
     "output_type": "stream",
     "text": [
      "X_train_transformed.shape: (978439, 714)\n"
     ]
    }
   ],
   "source": [
    "delta_lag_transformer = DeltaLagTransformer(n_deltas=2, n_lags=2)\n",
    "X_transformed = delta_lag_transformer.fit_transform(X)\n",
    "print(f\"X_train_transformed.shape: {X_transformed.shape}\")"
   ]
  },
  {
   "cell_type": "code",
   "execution_count": 19,
   "id": "12ec31a8",
   "metadata": {},
   "outputs": [
    {
     "name": "stderr",
     "output_type": "stream",
     "text": [
      "/var/folders/rc/prpxq6zd0654fg2rm3jwwx8h0000gp/T/ipykernel_37269/1619427130.py:2: PerformanceWarning: DataFrame is highly fragmented.  This is usually the result of calling `frame.insert` many times, which has poor performance.  Consider joining all columns at once using pd.concat(axis=1) instead. To get a de-fragmented frame, use `newframe = frame.copy()`\n",
      "  X_transformed.loc[:, \"label\"] = y\n"
     ]
    }
   ],
   "source": [
    "X_transformed.set_index(\"numero_de_cliente\", inplace=True)\n",
    "X_transformed.loc[:, \"label\"] = y\n"
   ]
  },
  {
   "cell_type": "code",
   "execution_count": 20,
   "id": "046d7c8a",
   "metadata": {},
   "outputs": [],
   "source": [
    "X_train = X_transformed[X_transformed[\"foto_mes\"].isin(train_months)]\n",
    "y_train = X_train[\"label\"]\n",
    "X_train = X_train.drop(columns=[\"label\"])\n",
    "X_eval = X_transformed[X_transformed[\"foto_mes\"].isin([eval_month])]\n",
    "X_eval = X_eval.drop(columns=[\"label\"])\n",
    "X_test = X_transformed[X_transformed[\"foto_mes\"].isin([202105])] # Solo para ver el escalado"
   ]
  },
  {
   "cell_type": "code",
   "execution_count": 21,
   "id": "cbbc6316",
   "metadata": {},
   "outputs": [],
   "source": [
    "import pandas as pd\n",
    "predictions = pd.DataFrame()\n",
    "for n, model in enumerate(models):\n",
    "    predictions[\"numero_de_cliente\"] = X_eval.index\n",
    "    y_pred = model.predict(X_eval)\n",
    "    predictions[f\"pred_{n}\"] = y_pred"
   ]
  },
  {
   "cell_type": "code",
   "execution_count": 22,
   "id": "232618ed",
   "metadata": {},
   "outputs": [],
   "source": [
    "predictions[\"pred_ensemble\"] = predictions.drop(columns=[\"numero_de_cliente\"]).mean(axis=1)\n",
    "predictions = predictions.sort_values(by=\"pred_ensemble\", ascending=False)\n",
    "import numpy as np\n",
    "ones = np.ones(12000, dtype=int)\n",
    "zeros = np.zeros(len(preds)-12000, dtype=int)\n",
    "sends = np.concatenate([ones, zeros])\n",
    "\n",
    "preds[\"predicted\"] = sends\n",
    "preds[[\"numero_de_cliente\", \"predicted\"]].to_csv(f\"{experiment_path}/DeltaLags2_0.3_150_01-04_G_0.0.2_ensemble_12k_predictions_dd1.3.csv\", index=False)"
   ]
  },
  {
   "cell_type": "markdown",
   "id": "4fc876f0",
   "metadata": {},
   "source": [
    "# optimización de envíos"
   ]
  },
  {
   "cell_type": "code",
   "execution_count": 23,
   "id": "1324e864",
   "metadata": {},
   "outputs": [],
   "source": [
    "from dmeyf2025.metrics.revenue import sends_optimization"
   ]
  },
  {
   "cell_type": "code",
   "execution_count": 25,
   "id": "643a4fce",
   "metadata": {},
   "outputs": [],
   "source": [
    "from dmeyf2025.metrics.revenue import revenue_from_prob\n",
    "def sends_optimization(y_pred, y_true, min_sends, max_sends, steps=100):\n",
    "    \"\"\"\n",
    "    Función que optimiza la cantidad de envíos para maximizar la ganancia.\n",
    "    \"\"\"\n",
    "    y_pred = np.array(y_pred)\n",
    "    y_true = np.array(y_true)\n",
    "    \n",
    "    # Convertir etiquetas binarias (0/1) a formato ternario para ganancia_prob\n",
    "    y_ternaria = [\"CONTINUA\" if label == 0 else \"BAJA+2\" for label in y_true]\n",
    "    max_ganancia = -np.inf\n",
    "    # Calcular ganancia usando las probabilidades directamente\n",
    "    for n_sends in range(min_sends, max_sends, steps):\n",
    "        ganancia = revenue_from_prob(y_pred, y_ternaria, n_sends)\n",
    "        if ganancia > max_ganancia:\n",
    "            max_ganancia = ganancia\n",
    "            best_n_sends = n_sends\n",
    "    return best_n_sends"
   ]
  },
  {
   "cell_type": "code",
   "execution_count": 31,
   "id": "a98e09e6",
   "metadata": {},
   "outputs": [
    {
     "name": "stdout",
     "output_type": "stream",
     "text": [
      "Best sends: 2800\n",
      "Best sends: 2800\n",
      "Best sends: 2800\n",
      "Best sends: 2800\n",
      "Best sends: 2600\n"
     ]
    }
   ],
   "source": [
    "min_sends = 1000\n",
    "max_sends = 20000\n",
    "X_train_04 = X_train.copy()\n",
    "X_train_04[\"label\"] = y_train\n",
    "X_train_04 = X_train_04[X_train_04[\"foto_mes\"].isin([202104])]\n",
    "y_train_04 = X_train_04[\"label\"]\n",
    "X_train_04 = X_train_04.drop(columns=[\"label\"])\n",
    "for model in models:\n",
    "    y_pred = model.predict(X_train_04)\n",
    "    best_sends = sends_optimization(y_pred, y_train_04, min_sends, max_sends)\n",
    "    print(f\"Best sends: {best_sends}\")"
   ]
  }
 ],
 "metadata": {
  "kernelspec": {
   "display_name": ".venv",
   "language": "python",
   "name": "python3"
  },
  "language_info": {
   "codemirror_mode": {
    "name": "ipython",
    "version": 3
   },
   "file_extension": ".py",
   "mimetype": "text/x-python",
   "name": "python",
   "nbconvert_exporter": "python",
   "pygments_lexer": "ipython3",
   "version": "3.12.0"
  }
 },
 "nbformat": 4,
 "nbformat_minor": 5
}
